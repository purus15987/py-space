{
  "cells": [
    {
      "cell_type": "code",
      "execution_count": null,
      "id": "6c06534a",
      "metadata": {
        "id": "6c06534a",
        "outputId": "8f71f87c-f2ed-48a9-aa0f-125ca3fff9f8"
      },
      "outputs": [
        {
          "name": "stdout",
          "output_type": "stream",
          "text": [
            "no of videos in playlist : 77\n",
            "1 done\n",
            "2 done\n",
            "3 done\n",
            "4 done\n",
            "5 done\n",
            "6 done\n",
            "7 done\n",
            "8 done\n",
            "9 done\n",
            "10 done\n",
            "11 done\n",
            "12 done\n",
            "13 done\n",
            "14 done\n",
            "15 done\n",
            "16 done\n",
            "17 done\n",
            "18 done\n",
            "19 done\n",
            "20 done\n",
            "21 done\n",
            "22 done\n",
            "23 done\n",
            "24 done\n",
            "25 done\n",
            "26 done\n",
            "27 done\n",
            "28 done\n",
            "29 done\n",
            "30 done\n",
            "31 done\n",
            "32 done\n",
            "33 done\n",
            "34 done\n",
            "35 done\n",
            "36 done\n",
            "37 done\n",
            "38 done\n",
            "39 done\n",
            "40 done\n",
            "41 done\n",
            "42 done\n",
            "43 done\n",
            "44 done\n",
            "45 done\n",
            "46 done\n",
            "47 done\n"
          ]
        }
      ],
      "source": [
        "import pytube\n",
        "import os\n",
        "\n",
        "# Define playlist URL and download directory\n",
        "playlist_url = \"https://youtube.com/playlist?list=PLxCzCOWd7aiHcmS4i14bI0VrMbZTUvlTa&si=ZGAZA7D-JuMvYGWR\"\n",
        "\n",
        "cur_dir = os.getcwd()\n",
        "download_dir = cur_dir + \"/DAA Gatesmashers\"\n",
        "\n",
        "# Create the directory if it doesn't exist\n",
        "if not os.path.exists(download_dir):\n",
        "    os.makedirs(download_dir)\n",
        "\n",
        "# Create a Playlist object\n",
        "yt_playlist = pytube.Playlist(playlist_url)\n",
        "\n",
        "print('no of videos in playlist :',len(yt_playlist))\n",
        "\n",
        "i = 0\n",
        "\n",
        "# Download all videos in the playlist with the highest resolution\n",
        "for video in yt_playlist.videos:\n",
        "    try:\n",
        "        # Try to get the highest resolution stream\n",
        "        stream = video.streams.get_highest_resolution()\n",
        "        stream.download(output_path=download_dir)\n",
        "        i += 1\n",
        "        print(i, 'done')\n",
        "    except pytube.exceptions.AgeRestrictedError:\n",
        "        # If the video is age-restricted, try to bypass age restriction\n",
        "        print(f\"Video {video.title} is age-restricted. Attempting to bypass age restriction...\")\n",
        "        video.register_on_complete_callback(lambda _: print(f\"{video.title} downloaded successfully after age restriction bypass.\"))\n",
        "        video.streams.get_by_itag(18).download(output_path=download_dir)  # Download a lower-quality version as a workaround\n",
        "\n",
        "print(f\"Downloaded playlist videos to {download_dir}\")"
      ]
    },
    {
      "cell_type": "code",
      "execution_count": null,
      "id": "ff88c5bb",
      "metadata": {
        "id": "ff88c5bb",
        "outputId": "0d3e0f4c-678b-41fd-b3db-3145a3c669da"
      },
      "outputs": [
        {
          "name": "stdout",
          "output_type": "stream",
          "text": [
            "Number of videos in playlist: 77\n",
            "68. L-6.7: Double Hashing | Collision Resolution Technique done\n",
            "69. Topological Sorting with examples | Topological Sorting using DFS | Imp For Placements & Comp. Exams done\n",
            "70. Kahn's Algorithm | Topological Sorting | DAA | Imp for Placements done\n",
            "71. Branch & Bound Algorithm with Example | Easiest Explanation of B&B with example done\n",
            "72. 0/1 Knapsack using Branch and Bound with example done\n",
            "73. Shortcut for Swaps🔁 in Bubble🫧 Sorting📶| Best Case | Worst Case done\n",
            "74. Optimized Bubble Sort | Best Case | O(n) Time Complexity | Sorting Algorithms |DAA done\n",
            "75. Recurrence Relation [T(n) = 2T(n/2) + 2] | Min-Max Algorithm done\n",
            "76. Min-Max Algorithm without Divide & Conquer🏆 | Linear Approach | Find Max & Min done\n",
            "77. Min Max Algorithm with Divide & Conquer🏆 done\n",
            "Downloaded playlist videos starting from index 68 to /Users/purus15987/Downloads/Jupyter_Notebook/DAA Gatesmashers\n"
          ]
        }
      ],
      "source": [
        "import pytube\n",
        "import os\n",
        "\n",
        "# Define playlist URL and download directory\n",
        "playlist_url = \"https://youtube.com/playlist?list=PLxCzCOWd7aiHcmS4i14bI0VrMbZTUvlTa&si=ZGAZA7D-JuMvYGWR\"\n",
        "\n",
        "cur_dir = os.getcwd()\n",
        "download_dir = cur_dir + \"/DAA Gatesmashers\"\n",
        "\n",
        "# Create the directory if it doesn't exist\n",
        "if not os.path.exists(download_dir):\n",
        "    os.makedirs(download_dir)\n",
        "\n",
        "# Create a Playlist object\n",
        "yt_playlist = pytube.Playlist(playlist_url)\n",
        "\n",
        "print('Number of videos in playlist:', len(yt_playlist))\n",
        "\n",
        "# Specify the starting index (i) to begin downloading from\n",
        "start_index = 68  # Change this to the desired starting index\n",
        "\n",
        "# Convert yt_playlist.videos to a list and then use slicing\n",
        "videos_to_download = list(yt_playlist.videos)[start_index - 1:]\n",
        "\n",
        "# Download videos starting from the specified index\n",
        "for i, video in enumerate(videos_to_download, start=start_index):\n",
        "    try:\n",
        "        # Try to get the highest resolution stream\n",
        "        stream = video.streams.get_highest_resolution()\n",
        "        stream.download(output_path=download_dir)\n",
        "        print(f\"{i}. {video.title} done\")\n",
        "    except pytube.exceptions.AgeRestrictedError:\n",
        "        # If the video is age-restricted, try to bypass age restriction\n",
        "        print(f\"Video {video.title} is age-restricted. Attempting to bypass age restriction...\")\n",
        "        video.register_on_complete_callback(lambda _: print(f\"{video.title} downloaded successfully after age restriction bypass.\"))\n",
        "        video.streams.get_by_itag(18).download(output_path=download_dir)  # Download a lower-quality version as a workaround\n",
        "\n",
        "print(f\"Downloaded playlist videos starting from index {start_index} to {download_dir}\")\n"
      ]
    },
    {
      "cell_type": "code",
      "execution_count": null,
      "id": "6c214808",
      "metadata": {
        "id": "6c214808"
      },
      "outputs": [],
      "source": []
    },
    {
      "cell_type": "code",
      "execution_count": null,
      "id": "648e9f26",
      "metadata": {
        "id": "648e9f26",
        "outputId": "11e3eb07-5d88-422f-9141-1b1fb2f8204c"
      },
      "outputs": [
        {
          "name": "stdout",
          "output_type": "stream",
          "text": [
            "Number of videos in playlist: 111\n",
            "36. L1.37: GATE-2010 | Dynamic Random Access(DRAM) example done\n",
            "37. L1.38: Dynamic Random Access Memory(DRAM) done\n",
            "38. L1.39: GATE-2018 | Dynamic Random Access Memory(DRAM) done\n",
            "39. L2.1: Types of Instructions | Opcode and Operands of Instructions in CO done\n",
            "40. L2.2: 4 - Address, 3 - Address and 2 - Address Instructions done\n",
            "41. L2.3: One address and Zero Address Instructions done\n",
            "42. L2.4: Find two and one address Instructions example-1 done\n"
          ]
        }
      ],
      "source": [
        "import pytube\n",
        "import os\n",
        "\n",
        "# Define playlist URL and download directory\n",
        "playlist_url = \"https://youtube.com/playlist?list=PL4hV_Krcqz_I9cE2xKw_mGR9Y4QmXMqRx&si=g3IhW221HUdVHHje\"\n",
        "\n",
        "cur_dir = os.getcwd()\n",
        "download_dir = cur_dir + \"/coa success gateway\"\n",
        "\n",
        "# Create the directory if it doesn't exist\n",
        "if not os.path.exists(download_dir):\n",
        "    os.makedirs(download_dir)\n",
        "\n",
        "# Create a Playlist object\n",
        "yt_playlist = pytube.Playlist(playlist_url)\n",
        "\n",
        "print('Number of videos in playlist:', len(yt_playlist))\n",
        "\n",
        "# Specify the starting index (i) to begin downloading from\n",
        "start_index = 36  # Change this to the desired starting index\n",
        "\n",
        "# Convert yt_playlist.videos to a list and then use slicing\n",
        "videos_to_download = list(yt_playlist.videos)[start_index - 1:]\n",
        "\n",
        "# Download videos starting from the specified index\n",
        "for i, video in enumerate(videos_to_download, start=start_index):\n",
        "    try:\n",
        "        # Try to get the highest resolution stream\n",
        "        stream = video.streams.get_highest_resolution()\n",
        "        stream.download(output_path=download_dir)\n",
        "        print(f\"{i}. {video.title} done\")\n",
        "    except pytube.exceptions.AgeRestrictedError:\n",
        "        # If the video is age-restricted, try to bypass age restriction\n",
        "        print(f\"Video {video.title} is age-restricted. Attempting to bypass age restriction...\")\n",
        "        video.register_on_complete_callback(lambda _: print(f\"{video.title} downloaded successfully after age restriction bypass.\"))\n",
        "        video.streams.get_by_itag(18).download(output_path=download_dir)  # Download a lower-quality version as a workaround\n",
        "\n",
        "print(f\"Downloaded playlist videos starting from index {start_index} to {download_dir}\")\n"
      ]
    },
    {
      "cell_type": "code",
      "execution_count": null,
      "id": "c9b6ce58",
      "metadata": {
        "id": "c9b6ce58"
      },
      "outputs": [],
      "source": []
    }
  ],
  "metadata": {
    "kernelspec": {
      "display_name": "Python 3 (ipykernel)",
      "language": "python",
      "name": "python3"
    },
    "language_info": {
      "codemirror_mode": {
        "name": "ipython",
        "version": 3
      },
      "file_extension": ".py",
      "mimetype": "text/x-python",
      "name": "python",
      "nbconvert_exporter": "python",
      "pygments_lexer": "ipython3",
      "version": "3.10.9"
    },
    "colab": {
      "provenance": []
    }
  },
  "nbformat": 4,
  "nbformat_minor": 5
}