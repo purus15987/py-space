{
  "nbformat": 4,
  "nbformat_minor": 0,
  "metadata": {
    "colab": {
      "provenance": [],
      "toc_visible": true
    },
    "kernelspec": {
      "name": "python3",
      "display_name": "Python 3"
    },
    "language_info": {
      "name": "python"
    }
  },
  "cells": [
    {
      "cell_type": "markdown",
      "source": [
        "# Harry Potter’s Invisible Cloak\n",
        "\n",
        "You must have a cloth of same color and no other color should be visible into that cloth."
      ],
      "metadata": {
        "id": "v0AyQ6IfJjhp"
      }
    },
    {
      "cell_type": "markdown",
      "source": [
        "Color detection and segmentation"
      ],
      "metadata": {
        "id": "bEuJFQ4eJ9F2"
      }
    },
    {
      "cell_type": "code",
      "execution_count": null,
      "metadata": {
        "id": "Yeb5GoQ6JgoA"
      },
      "outputs": [],
      "source": [
        "import cv2\n",
        "import numpy as np\n",
        "import time\n",
        "\n",
        "# replace the red pixels ( or undesired area ) with\n",
        "# background pixels to generate the invisibility feature.\n",
        "\n",
        "# in order to check the cv2 version\n",
        "print(cv2.__version__)\n",
        "\n",
        "# taking video.mp4 as input.\n",
        "# Make your path according to your needs\n",
        "capture_video = cv2.VideoCapture(\"video.mp4\")\n",
        "\n",
        "# give the camera to warm up\n",
        "time.sleep(1)\n",
        "count = 0\n",
        "background = 0\n",
        "\n",
        "# capturing the background in range of 60\n",
        "# you should have video that have some seconds\n",
        "# dedicated to background frame so that it\n",
        "# could easily save the background image\n",
        "for i in range(60):\n",
        "    return_val, background = capture_video.read()\n",
        "    if return_val == False :\n",
        "        continue\n",
        "\n",
        "background = np.flip(background, axis = 1) # flipping of the frame\n",
        "\n",
        "# we are reading from video\n",
        "while (capture_video.isOpened()):\n",
        "    return_val, img = capture_video.read()\n",
        "    if not return_val :\n",
        "        break\n",
        "    count = count + 1\n",
        "    img = np.flip(img, axis = 1)\n",
        "\n",
        "    # convert the image - BGR to HSV\n",
        "    # as we focused on detection of red color\n",
        "\n",
        "    # converting BGR to HSV for better\n",
        "    # detection or you can convert it to gray\n",
        "    hsv = cv2.cvtColor(img, cv2.COLOR_BGR2HSV)\n",
        "\n",
        "    #-------------------------------------BLOCK----------------------------#\n",
        "    # ranges should be carefully chosen\n",
        "    # setting the lower and upper range for mask1\n",
        "    lower_red = np.array([100, 40, 40])\n",
        "    upper_red = np.array([100, 255, 255])\n",
        "    mask1 = cv2.inRange(hsv, lower_red, upper_red)\n",
        "    # setting the lower and upper range for mask2\n",
        "    lower_red = np.array([155, 40, 40])\n",
        "    upper_red = np.array([180, 255, 255])\n",
        "    mask2 = cv2.inRange(hsv, lower_red, upper_red)\n",
        "    #----------------------------------------------------------------------#\n",
        "\n",
        "    # the above block of code could be replaced with\n",
        "    # some other code depending upon the color of your cloth\n",
        "    mask1 = mask1 + mask2\n",
        "\n",
        "    # Refining the mask corresponding to the detected red color\n",
        "    mask1 = cv2.morphologyEx(mask1, cv2.MORPH_OPEN, np.ones((3, 3),\n",
        "                                         np.uint8), iterations = 2)\n",
        "    mask1 = cv2.dilate(mask1, np.ones((3, 3), np.uint8), iterations = 1)\n",
        "    mask2 = cv2.bitwise_not(mask1)\n",
        "\n",
        "    # Generating the final output\n",
        "    res1 = cv2.bitwise_and(background, background, mask = mask1)\n",
        "    res2 = cv2.bitwise_and(img, img, mask = mask2)\n",
        "    final_output = cv2.addWeighted(res1, 1, res2, 1, 0)\n",
        "\n",
        "    cv2.imshow(\"INVISIBLE MAN\", final_output)\n",
        "    k = cv2.waitKey(10)\n",
        "    if k == 27:\n",
        "        break"
      ]
    },
    {
      "cell_type": "markdown",
      "source": [
        "#Drawing with Mouse on Images\n",
        "The mouse events/operations could be:\n",
        "\n",
        "* EVENT_MOUSEMOVE\n",
        "* EVENT_LBUTTONDOWN\n",
        "* EVENT_RBUTTONDOWN\n",
        "* EVENT_LBUTTONUP\n",
        "* EVENT_RBUTTONUP"
      ],
      "metadata": {
        "id": "piiPrbP5NvF7"
      }
    },
    {
      "cell_type": "code",
      "source": [
        "import cv2\n",
        "import numpy as np\n",
        "\n",
        "# Initialize global variables\n",
        "drawing = False  # True if mouse is pressed\n",
        "ix, iy = -1, -1  # Initial position of the mouse\n",
        "\n",
        "# Callback function to handle mouse events\n",
        "def draw_line(event, x, y, flags, param):\n",
        "    global ix, iy, drawing, img\n",
        "\n",
        "    if event == cv2.EVENT_LBUTTONDOWN:  # Left mouse button press\n",
        "        drawing = True\n",
        "        ix, iy = x, y  # Record the starting point\n",
        "\n",
        "    elif event == cv2.EVENT_MOUSEMOVE:  # Mouse movement\n",
        "        if drawing:  # If the left mouse button is pressed\n",
        "            # Draw a line from (ix, iy) to (x, y)\n",
        "            img_copy = img.copy()  # Make a copy of the original image to prevent permanent drawing while moving\n",
        "            cv2.line(img_copy, (ix, iy), (x, y), (0, 0, 255), 2)  # Red line with thickness 2\n",
        "            cv2.imshow(\"Draw on Image\", img_copy)\n",
        "\n",
        "    elif event == cv2.EVENT_LBUTTONUP:  # Left mouse button release\n",
        "        drawing = False\n",
        "        cv2.line(img, (ix, iy), (x, y), (0, 0, 255), 2)  # Draw final line\n",
        "\n",
        "# Load the image\n",
        "img = cv2.imread('image.jpg')  # Replace with your image file path\n",
        "\n",
        "# Create a window to display the image\n",
        "cv2.imshow(\"Draw on Image\", img)\n",
        "\n",
        "# Set the mouse callback function\n",
        "cv2.setMouseCallback(\"Draw on Image\", draw_line)\n",
        "\n",
        "# Wait until the user presses the 'q' key to exit\n",
        "while True:\n",
        "    cv2.imshow(\"Draw on Image\", img)\n",
        "    if cv2.waitKey(1) & 0xFF == ord('q'):  # Press 'q' to quit\n",
        "        break\n",
        "\n",
        "# Release resources and close all windows\n",
        "cv2.destroyAllWindows()\n"
      ],
      "metadata": {
        "id": "Umdq-htDNwZv"
      },
      "execution_count": null,
      "outputs": []
    }
  ]
}