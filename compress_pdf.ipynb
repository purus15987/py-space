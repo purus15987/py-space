{
  "nbformat": 4,
  "nbformat_minor": 0,
  "metadata": {
    "colab": {
      "provenance": [],
      "toc_visible": true
    },
    "kernelspec": {
      "name": "python3",
      "display_name": "Python 3"
    },
    "language_info": {
      "name": "python"
    }
  },
  "cells": [
    {
      "cell_type": "code",
      "source": [
        "import fitz  # PyMuPDF\n",
        "\n",
        "def compress_pdf(input_pdf_path, output_pdf_path, zoom=2, quality=60):\n",
        "    # Open the input PDF\n",
        "    pdf_document = fitz.open(input_pdf_path)\n",
        "    pdf_writer = fitz.open()\n",
        "\n",
        "    # Iterate through each page\n",
        "    for page_num in range(pdf_document.page_count):\n",
        "        page = pdf_document.load_page(page_num)\n",
        "        pix = page.get_pixmap(matrix=fitz.Matrix(zoom, zoom), alpha=False)\n",
        "\n",
        "        # Convert to PIL image for compression\n",
        "        img = Image.frombytes(\"RGB\", [pix.width, pix.height], pix.samples)\n",
        "\n",
        "        # Compress the image\n",
        "        compressed_image_io = io.BytesIO()\n",
        "        img.save(compressed_image_io, format='JPEG', quality=quality)\n",
        "\n",
        "        # Create a new PDF page with the compressed image\n",
        "        new_page = pdf_writer.new_page(width=pix.width, height=pix.height)\n",
        "        new_page.insert_image(new_page.rect, stream=compressed_image_io.getvalue())\n",
        "\n",
        "    # Save the compressed PDF\n",
        "    pdf_writer.save(output_pdf_path)\n",
        "    pdf_writer.close()\n",
        "\n",
        "# Usage\n",
        "input_pdf = '/content/NRI DOCUMENT.pdf'\n",
        "output_pdf = 'output_compressed1.pdf'\n",
        "compress_pdf(input_pdf, output_pdf, zoom=1, quality=100)\n",
        "\n",
        "\n",
        "input_pdf_size_kb = os.path.getsize(input_pdf) / 1024\n",
        "print(input_pdf_size_kb)\n",
        "pdf_size_kb = os.path.getsize(output_pdf) / 1024\n",
        "print(pdf_size_kb)\n"
      ],
      "metadata": {
        "colab": {
          "base_uri": "https://localhost:8080/"
        },
        "id": "WtK-LZyBP0co",
        "outputId": "b6fb9a5b-5b37-4794-d2fd-859d3b391c2c"
      },
      "execution_count": null,
      "outputs": [
        {
          "output_type": "stream",
          "name": "stdout",
          "text": [
            "696.955078125\n",
            "11332.2158203125\n"
          ]
        }
      ]
    },
    {
      "cell_type": "code",
      "source": [
        "import os\n",
        "from pypdf import PdfWriter, PdfReader\n",
        "from PIL import Image\n",
        "import io\n",
        "\n",
        "def compress_image(image_data, quality=50):\n",
        "    \"\"\"Compress the image and return as a byte stream.\"\"\"\n",
        "    image = Image.open(io.BytesIO(image_data))\n",
        "    with io.BytesIO() as output:\n",
        "        image.save(output, format=\"JPEG\", quality=quality, optimize=True)\n",
        "        return output.getvalue()\n",
        "\n",
        "\n",
        "def compress_images_in_pdf(input_pdf, output_pdf, image_quality=50):\n",
        "    reader = PdfReader(input_pdf)\n",
        "    writer = PdfWriter()\n",
        "\n",
        "    for page in reader.pages:\n",
        "        if \"/XObject\" in page[\"/Resources\"]:\n",
        "            xobject = page[\"/Resources\"][\"/XObject\"].get_object()\n",
        "            for obj in xobject:\n",
        "                if xobject[obj][\"/Subtype\"] == \"/Image\":\n",
        "                    original_data = xobject[obj]._data\n",
        "                    compressed_data = compress_image(original_data, quality=image_quality)\n",
        "                    xobject[obj]._data = compressed_data\n",
        "        writer.add_page(page)\n",
        "\n",
        "    with open(output_pdf, \"wb\") as f:\n",
        "        writer.write(f)\n",
        "\n",
        "# File paths\n",
        "input_pdf = \"/content/out3.pdf\"\n",
        "output_pdf = \"compressed_images_nri.pdf\"\n",
        "final_pdf = \"final_nri_compressed.pdf\"\n",
        "\n",
        "# Get the size of the original PDF\n",
        "original_size = os.path.getsize(input_pdf)\n",
        "\n",
        "# Compress images within the PDF\n",
        "compress_images_in_pdf(input_pdf, output_pdf, image_quality=10)\n",
        "\n",
        "# Compress the PDF content streams\n",
        "writer = PdfWriter(clone_from=output_pdf)\n",
        "\n",
        "for page in writer.pages:\n",
        "    page.compress_content_streams(level=9)  # Maximum compression\n",
        "\n",
        "# Write the fully compressed PDF\n",
        "with open(final_pdf, \"wb\") as f:\n",
        "    writer.write(f)\n",
        "\n",
        "# Get the size of the final compressed PDF\n",
        "compressed_size = os.path.getsize(final_pdf)\n",
        "\n",
        "# Print the results\n",
        "print(f\"Original PDF size: {original_size} bytes\")\n",
        "print(f\"Compressed PDF size (images + PDF): {compressed_size} bytes\")\n",
        "print(f\"Size reduction: {original_size - compressed_size} bytes ({(original_size - compressed_size) / original_size * 100:.2f}% reduction)\")\n"
      ],
      "metadata": {
        "colab": {
          "base_uri": "https://localhost:8080/",
          "height": 350
        },
        "id": "c7YOz-fCIeLT",
        "outputId": "0420a739-7e1e-4425-b8f7-18d8a5511ad7"
      },
      "execution_count": null,
      "outputs": [
        {
          "output_type": "error",
          "ename": "UnidentifiedImageError",
          "evalue": "cannot identify image file <_io.BytesIO object at 0x7a4160d5d850>",
          "traceback": [
            "\u001b[0;31m---------------------------------------------------------------------------\u001b[0m",
            "\u001b[0;31mUnidentifiedImageError\u001b[0m                    Traceback (most recent call last)",
            "\u001b[0;32m<ipython-input-28-2c0bf476f1da>\u001b[0m in \u001b[0;36m<cell line: 40>\u001b[0;34m()\u001b[0m\n\u001b[1;32m     38\u001b[0m \u001b[0;34m\u001b[0m\u001b[0m\n\u001b[1;32m     39\u001b[0m \u001b[0;31m# Compress images within the PDF\u001b[0m\u001b[0;34m\u001b[0m\u001b[0;34m\u001b[0m\u001b[0m\n\u001b[0;32m---> 40\u001b[0;31m \u001b[0mcompress_images_in_pdf\u001b[0m\u001b[0;34m(\u001b[0m\u001b[0minput_pdf\u001b[0m\u001b[0;34m,\u001b[0m \u001b[0moutput_pdf\u001b[0m\u001b[0;34m,\u001b[0m \u001b[0mimage_quality\u001b[0m\u001b[0;34m=\u001b[0m\u001b[0;36m10\u001b[0m\u001b[0;34m)\u001b[0m\u001b[0;34m\u001b[0m\u001b[0;34m\u001b[0m\u001b[0m\n\u001b[0m\u001b[1;32m     41\u001b[0m \u001b[0;34m\u001b[0m\u001b[0m\n\u001b[1;32m     42\u001b[0m \u001b[0;31m# Compress the PDF content streams\u001b[0m\u001b[0;34m\u001b[0m\u001b[0;34m\u001b[0m\u001b[0m\n",
            "\u001b[0;32m<ipython-input-28-2c0bf476f1da>\u001b[0m in \u001b[0;36mcompress_images_in_pdf\u001b[0;34m(input_pdf, output_pdf, image_quality)\u001b[0m\n\u001b[1;32m     22\u001b[0m                 \u001b[0;32mif\u001b[0m \u001b[0mxobject\u001b[0m\u001b[0;34m[\u001b[0m\u001b[0mobj\u001b[0m\u001b[0;34m]\u001b[0m\u001b[0;34m[\u001b[0m\u001b[0;34m\"/Subtype\"\u001b[0m\u001b[0;34m]\u001b[0m \u001b[0;34m==\u001b[0m \u001b[0;34m\"/Image\"\u001b[0m\u001b[0;34m:\u001b[0m\u001b[0;34m\u001b[0m\u001b[0;34m\u001b[0m\u001b[0m\n\u001b[1;32m     23\u001b[0m                     \u001b[0moriginal_data\u001b[0m \u001b[0;34m=\u001b[0m \u001b[0mxobject\u001b[0m\u001b[0;34m[\u001b[0m\u001b[0mobj\u001b[0m\u001b[0;34m]\u001b[0m\u001b[0;34m.\u001b[0m\u001b[0m_data\u001b[0m\u001b[0;34m\u001b[0m\u001b[0;34m\u001b[0m\u001b[0m\n\u001b[0;32m---> 24\u001b[0;31m                     \u001b[0mcompressed_data\u001b[0m \u001b[0;34m=\u001b[0m \u001b[0mcompress_image\u001b[0m\u001b[0;34m(\u001b[0m\u001b[0moriginal_data\u001b[0m\u001b[0;34m,\u001b[0m \u001b[0mquality\u001b[0m\u001b[0;34m=\u001b[0m\u001b[0mimage_quality\u001b[0m\u001b[0;34m)\u001b[0m\u001b[0;34m\u001b[0m\u001b[0;34m\u001b[0m\u001b[0m\n\u001b[0m\u001b[1;32m     25\u001b[0m                     \u001b[0mxobject\u001b[0m\u001b[0;34m[\u001b[0m\u001b[0mobj\u001b[0m\u001b[0;34m]\u001b[0m\u001b[0;34m.\u001b[0m\u001b[0m_data\u001b[0m \u001b[0;34m=\u001b[0m \u001b[0mcompressed_data\u001b[0m\u001b[0;34m\u001b[0m\u001b[0;34m\u001b[0m\u001b[0m\n\u001b[1;32m     26\u001b[0m         \u001b[0mwriter\u001b[0m\u001b[0;34m.\u001b[0m\u001b[0madd_page\u001b[0m\u001b[0;34m(\u001b[0m\u001b[0mpage\u001b[0m\u001b[0;34m)\u001b[0m\u001b[0;34m\u001b[0m\u001b[0;34m\u001b[0m\u001b[0m\n",
            "\u001b[0;32m<ipython-input-28-2c0bf476f1da>\u001b[0m in \u001b[0;36mcompress_image\u001b[0;34m(image_data, quality)\u001b[0m\n\u001b[1;32m      6\u001b[0m \u001b[0;32mdef\u001b[0m \u001b[0mcompress_image\u001b[0m\u001b[0;34m(\u001b[0m\u001b[0mimage_data\u001b[0m\u001b[0;34m,\u001b[0m \u001b[0mquality\u001b[0m\u001b[0;34m=\u001b[0m\u001b[0;36m50\u001b[0m\u001b[0;34m)\u001b[0m\u001b[0;34m:\u001b[0m\u001b[0;34m\u001b[0m\u001b[0;34m\u001b[0m\u001b[0m\n\u001b[1;32m      7\u001b[0m     \u001b[0;34m\"\"\"Compress the image and return as a byte stream.\"\"\"\u001b[0m\u001b[0;34m\u001b[0m\u001b[0;34m\u001b[0m\u001b[0m\n\u001b[0;32m----> 8\u001b[0;31m     \u001b[0mimage\u001b[0m \u001b[0;34m=\u001b[0m \u001b[0mImage\u001b[0m\u001b[0;34m.\u001b[0m\u001b[0mopen\u001b[0m\u001b[0;34m(\u001b[0m\u001b[0mio\u001b[0m\u001b[0;34m.\u001b[0m\u001b[0mBytesIO\u001b[0m\u001b[0;34m(\u001b[0m\u001b[0mimage_data\u001b[0m\u001b[0;34m)\u001b[0m\u001b[0;34m)\u001b[0m\u001b[0;34m\u001b[0m\u001b[0;34m\u001b[0m\u001b[0m\n\u001b[0m\u001b[1;32m      9\u001b[0m     \u001b[0;32mwith\u001b[0m \u001b[0mio\u001b[0m\u001b[0;34m.\u001b[0m\u001b[0mBytesIO\u001b[0m\u001b[0;34m(\u001b[0m\u001b[0;34m)\u001b[0m \u001b[0;32mas\u001b[0m \u001b[0moutput\u001b[0m\u001b[0;34m:\u001b[0m\u001b[0;34m\u001b[0m\u001b[0;34m\u001b[0m\u001b[0m\n\u001b[1;32m     10\u001b[0m         \u001b[0mimage\u001b[0m\u001b[0;34m.\u001b[0m\u001b[0msave\u001b[0m\u001b[0;34m(\u001b[0m\u001b[0moutput\u001b[0m\u001b[0;34m,\u001b[0m \u001b[0mformat\u001b[0m\u001b[0;34m=\u001b[0m\u001b[0;34m\"JPEG\"\u001b[0m\u001b[0;34m,\u001b[0m \u001b[0mquality\u001b[0m\u001b[0;34m=\u001b[0m\u001b[0mquality\u001b[0m\u001b[0;34m,\u001b[0m \u001b[0moptimize\u001b[0m\u001b[0;34m=\u001b[0m\u001b[0;32mTrue\u001b[0m\u001b[0;34m)\u001b[0m\u001b[0;34m\u001b[0m\u001b[0;34m\u001b[0m\u001b[0m\n",
            "\u001b[0;32m/usr/local/lib/python3.10/dist-packages/PIL/Image.py\u001b[0m in \u001b[0;36mopen\u001b[0;34m(fp, mode, formats)\u001b[0m\n\u001b[1;32m   3281\u001b[0m         \u001b[0mwarnings\u001b[0m\u001b[0;34m.\u001b[0m\u001b[0mwarn\u001b[0m\u001b[0;34m(\u001b[0m\u001b[0mmessage\u001b[0m\u001b[0;34m)\u001b[0m\u001b[0;34m\u001b[0m\u001b[0;34m\u001b[0m\u001b[0m\n\u001b[1;32m   3282\u001b[0m     \u001b[0mmsg\u001b[0m \u001b[0;34m=\u001b[0m \u001b[0;34m\"cannot identify image file %r\"\u001b[0m \u001b[0;34m%\u001b[0m \u001b[0;34m(\u001b[0m\u001b[0mfilename\u001b[0m \u001b[0;32mif\u001b[0m \u001b[0mfilename\u001b[0m \u001b[0;32melse\u001b[0m \u001b[0mfp\u001b[0m\u001b[0;34m)\u001b[0m\u001b[0;34m\u001b[0m\u001b[0;34m\u001b[0m\u001b[0m\n\u001b[0;32m-> 3283\u001b[0;31m     \u001b[0;32mraise\u001b[0m \u001b[0mUnidentifiedImageError\u001b[0m\u001b[0;34m(\u001b[0m\u001b[0mmsg\u001b[0m\u001b[0;34m)\u001b[0m\u001b[0;34m\u001b[0m\u001b[0;34m\u001b[0m\u001b[0m\n\u001b[0m\u001b[1;32m   3284\u001b[0m \u001b[0;34m\u001b[0m\u001b[0m\n\u001b[1;32m   3285\u001b[0m \u001b[0;34m\u001b[0m\u001b[0m\n",
            "\u001b[0;31mUnidentifiedImageError\u001b[0m: cannot identify image file <_io.BytesIO object at 0x7a4160d5d850>"
          ]
        }
      ]
    },
    {
      "cell_type": "code",
      "source": [
        "from pdf2image import convert_from_path\n",
        "import os\n",
        "\n",
        "def pdf_to_images(input_pdf, output_folder, dpi=300):\n",
        "    \"\"\"\n",
        "    Convert each page of the PDF to an image and save them.\n",
        "\n",
        "    :param input_pdf: Path to the input PDF file.\n",
        "    :param output_folder: Folder to save the output images.\n",
        "    :param dpi: Resolution for the output images (default is 300).\n",
        "    \"\"\"\n",
        "    # Convert PDF to a list of images\n",
        "    images = convert_from_path(input_pdf, dpi=dpi)\n",
        "\n",
        "    # Ensure the output folder exists\n",
        "    os.makedirs(output_folder, exist_ok=True)\n",
        "\n",
        "    # Save each image\n",
        "    for i, image in enumerate(images):\n",
        "        image_path = os.path.join(output_folder, f\"page_{i+1}.png\")\n",
        "        image.save(image_path, \"PNG\")\n",
        "        print(f\"Saved {image_path}\")\n",
        "\n",
        "def get_folder_size(folder):\n",
        "    \"\"\"\n",
        "    Calculate the total size of all files in a folder.\n",
        "\n",
        "    :param folder: Path to the folder.\n",
        "    :return: Total size of the folder in bytes.\n",
        "    \"\"\"\n",
        "    total_size = 0\n",
        "    for dirpath, dirnames, filenames in os.walk(folder):\n",
        "        for filename in filenames:\n",
        "            file_path = os.path.join(dirpath, filename)\n",
        "            total_size += os.path.getsize(file_path)\n",
        "    return total_size\n",
        "\n",
        "# Example usage\n",
        "input_pdf = \"/content/NRI DOCUMENT.pdf\"\n",
        "output_folder = \"output_images\"\n",
        "\n",
        "# Convert PDF pages to images\n",
        "pdf_to_images(input_pdf, output_folder, dpi=300)\n",
        "\n",
        "# Calculate the total size of the output images folder\n",
        "folder_size = get_folder_size(output_folder)\n",
        "\n",
        "# Print the total size in bytes, KB, and MB\n",
        "print(f\"Total size of '{output_folder}' folder: {folder_size} bytes\")\n",
        "print(f\"Total size of '{output_folder}' folder: {folder_size / 1024:.2f} KB\")\n",
        "print(f\"Total size of '{output_folder}' folder: {folder_size / (1024 * 1024):.2f} MB\")\n"
      ],
      "metadata": {
        "colab": {
          "base_uri": "https://localhost:8080/"
        },
        "id": "QvobcuzoJjaI",
        "outputId": "144d3d9e-de8d-4e17-8812-d24468b304c7"
      },
      "execution_count": null,
      "outputs": [
        {
          "output_type": "stream",
          "name": "stdout",
          "text": [
            "Saved output_images/page_1.png\n",
            "Saved output_images/page_2.png\n",
            "Saved output_images/page_3.png\n",
            "Saved output_images/page_4.png\n",
            "Saved output_images/page_5.png\n",
            "Saved output_images/page_6.png\n",
            "Saved output_images/page_7.png\n",
            "Saved output_images/page_8.png\n",
            "Saved output_images/page_9.png\n",
            "Saved output_images/page_10.png\n",
            "Saved output_images/page_11.png\n",
            "Saved output_images/page_12.png\n",
            "Saved output_images/page_13.png\n",
            "Saved output_images/page_14.png\n",
            "Saved output_images/page_15.png\n",
            "Saved output_images/page_16.png\n",
            "Saved output_images/page_17.png\n",
            "Saved output_images/page_18.png\n",
            "Saved output_images/page_19.png\n",
            "Saved output_images/page_20.png\n",
            "Saved output_images/page_21.png\n",
            "Saved output_images/page_22.png\n",
            "Saved output_images/page_23.png\n",
            "Saved output_images/page_24.png\n",
            "Saved output_images/page_25.png\n",
            "Saved output_images/page_26.png\n",
            "Saved output_images/page_27.png\n",
            "Saved output_images/page_28.png\n",
            "Saved output_images/page_29.png\n",
            "Saved output_images/page_30.png\n",
            "Saved output_images/page_31.png\n",
            "Saved output_images/page_32.png\n",
            "Saved output_images/page_33.png\n",
            "Total size of 'output_images' folder: 44272710 bytes\n",
            "Total size of 'output_images' folder: 43235.07 KB\n",
            "Total size of 'output_images' folder: 42.22 MB\n"
          ]
        }
      ]
    },
    {
      "cell_type": "code",
      "source": [
        "from PIL import Image\n",
        "from fpdf import FPDF\n",
        "import os\n",
        "\n",
        "def compress_image(image_path, output_path, quality=50):\n",
        "    \"\"\"\n",
        "    Compress an image and save it.\n",
        "\n",
        "    :param image_path: Path to the input image.\n",
        "    :param output_path: Path to save the compressed image.\n",
        "    :param quality: Compression quality (1-100).\n",
        "    \"\"\"\n",
        "    image = Image.open(image_path)\n",
        "    image.save(output_path, \"JPEG\", quality=quality)\n",
        "\n",
        "def images_to_pdf(image_folder, output_pdf, target_size_kb=500):\n",
        "    \"\"\"\n",
        "    Convert a folder of images to a PDF with a target size.\n",
        "\n",
        "    :param image_folder: Path to the folder containing images.\n",
        "    :param output_pdf: Path to save the output PDF.\n",
        "    :param target_size_kb: Desired maximum size of the PDF in KB.\n",
        "    \"\"\"\n",
        "    quality = 85  # Start with a high quality\n",
        "    pdf = FPDF()\n",
        "    image_paths = sorted([os.path.join(image_folder, f) for f in os.listdir(image_folder) if f.endswith(\".png\")])\n",
        "\n",
        "    while True:\n",
        "        # Create a temporary folder for compressed images\n",
        "        compressed_folder = os.path.join(image_folder, \"compressed\")\n",
        "        os.makedirs(compressed_folder, exist_ok=True)\n",
        "\n",
        "        # Compress images\n",
        "        compressed_images = []\n",
        "        for i, image_path in enumerate(image_paths):\n",
        "            compressed_image_path = os.path.join(compressed_folder, f\"compressed_{i+1}.jpg\")\n",
        "            compress_image(image_path, compressed_image_path, quality=quality)\n",
        "            compressed_images.append(compressed_image_path)\n",
        "\n",
        "        # Add images to PDF\n",
        "        pdf = FPDF()\n",
        "        for img in compressed_images:\n",
        "            pdf.add_page()\n",
        "            pdf.image(img, 0, 0, 210, 297)  # A4 size (210x297 mm)\n",
        "\n",
        "        # Save the PDF\n",
        "        pdf.output(output_pdf)\n",
        "\n",
        "        # Check PDF size\n",
        "        pdf_size_kb = os.path.getsize(output_pdf) / 1024\n",
        "        print(pdf_size_kb)\n",
        "        if pdf_size_kb <= target_size_kb:\n",
        "            break\n",
        "        else:\n",
        "            quality -= 10  # Reduce quality for further compression\n",
        "\n",
        "        # Clean up compressed images\n",
        "        for img in compressed_images:\n",
        "            os.remove(img)\n",
        "        os.rmdir(compressed_folder)\n",
        "\n",
        "        if quality < 1:\n",
        "            print(\"Warning: Cannot compress PDF to target size with acceptable quality.\")\n",
        "            break\n",
        "\n",
        "    print(f\"Final PDF size: {pdf_size_kb:.2f} KB\")\n",
        "\n",
        "# Example usage\n",
        "image_folder = \"output_images\"  # Folder where the images are stored\n",
        "output_pdf = \"output.pdf\"\n",
        "\n",
        "images_to_pdf(image_folder, output_pdf, target_size_kb=500)\n"
      ],
      "metadata": {
        "colab": {
          "base_uri": "https://localhost:8080/"
        },
        "id": "Zx-EnuE7MrN8",
        "outputId": "d753622d-981f-4883-d893-5e1f0e8a9df9"
      },
      "execution_count": null,
      "outputs": [
        {
          "output_type": "stream",
          "name": "stdout",
          "text": [
            "34087.326171875\n",
            "28213.9384765625\n",
            "24970.70703125\n",
            "22619.67578125\n",
            "20918.4970703125\n",
            "19064.830078125\n",
            "16748.72265625\n",
            "13746.798828125\n",
            "9021.2333984375\n",
            "Warning: Cannot compress PDF to target size with acceptable quality.\n",
            "Final PDF size: 9021.23 KB\n"
          ]
        }
      ]
    },
    {
      "cell_type": "code",
      "source": [
        "!pip install fpdf"
      ],
      "metadata": {
        "colab": {
          "base_uri": "https://localhost:8080/"
        },
        "id": "41X--aIfNmIs",
        "outputId": "d9d54e95-5d4d-4f03-be16-c6537f325a37"
      },
      "execution_count": null,
      "outputs": [
        {
          "output_type": "stream",
          "name": "stdout",
          "text": [
            "Collecting fpdf\n",
            "  Downloading fpdf-1.7.2.tar.gz (39 kB)\n",
            "  Preparing metadata (setup.py) ... \u001b[?25l\u001b[?25hdone\n",
            "Building wheels for collected packages: fpdf\n",
            "  Building wheel for fpdf (setup.py) ... \u001b[?25l\u001b[?25hdone\n",
            "  Created wheel for fpdf: filename=fpdf-1.7.2-py2.py3-none-any.whl size=40704 sha256=c425f449cf656839c816b111cbe5c4011f769220b01be7ee36ca1a577032fd8b\n",
            "  Stored in directory: /root/.cache/pip/wheels/f9/95/ba/f418094659025eb9611f17cbcaf2334236bf39a0c3453ea455\n",
            "Successfully built fpdf\n",
            "Installing collected packages: fpdf\n",
            "Successfully installed fpdf-1.7.2\n"
          ]
        }
      ]
    },
    {
      "cell_type": "code",
      "source": [],
      "metadata": {
        "id": "-1ZRONCENprY"
      },
      "execution_count": null,
      "outputs": []
    }
  ]
}