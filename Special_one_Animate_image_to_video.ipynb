{
  "cells": [
    {
      "cell_type": "markdown",
      "metadata": {
        "id": "hCx_pjD6FM8S"
      },
      "source": [
        "\n",
        "Change runtime type to T4 gpu"
      ]
    },
    {
      "cell_type": "code",
      "execution_count": null,
      "metadata": {
        "id": "RxMmq9tpnsNW",
        "colab": {
          "base_uri": "https://localhost:8080/"
        },
        "outputId": "8196e7f1-17c0-4482-fb32-f814c30dcc91"
      },
      "outputs": [
        {
          "output_type": "stream",
          "name": "stdout",
          "text": [
            "Mounted at /content/drive\n"
          ]
        }
      ],
      "source": [
        "# Step 1: Set up your Colab environment\n",
        "# Mount Google Drive\n",
        "from google.colab import drive\n",
        "drive.mount('/content/drive')"
      ]
    },
    {
      "cell_type": "code",
      "execution_count": null,
      "metadata": {
        "colab": {
          "base_uri": "https://localhost:8080/"
        },
        "id": "-hlKEm6cn1Ob",
        "outputId": "1759eb78-37c3-45f2-cf39-c8a6ebeebaeb"
      },
      "outputs": [
        {
          "output_type": "stream",
          "name": "stdout",
          "text": [
            "Requirement already satisfied: imageio in /usr/local/lib/python3.10/dist-packages (2.36.1)\n",
            "Requirement already satisfied: imageio-ffmpeg in /usr/local/lib/python3.10/dist-packages (0.5.1)\n",
            "Requirement already satisfied: numpy in /usr/local/lib/python3.10/dist-packages (1.26.4)\n",
            "Requirement already satisfied: torch in /usr/local/lib/python3.10/dist-packages (2.5.1+cu121)\n",
            "Collecting ffmpeg-python\n",
            "  Downloading ffmpeg_python-0.2.0-py3-none-any.whl.metadata (1.7 kB)\n",
            "Requirement already satisfied: pillow>=8.3.2 in /usr/local/lib/python3.10/dist-packages (from imageio) (11.0.0)\n",
            "Requirement already satisfied: setuptools in /usr/local/lib/python3.10/dist-packages (from imageio-ffmpeg) (75.1.0)\n",
            "Requirement already satisfied: filelock in /usr/local/lib/python3.10/dist-packages (from torch) (3.16.1)\n",
            "Requirement already satisfied: typing-extensions>=4.8.0 in /usr/local/lib/python3.10/dist-packages (from torch) (4.12.2)\n",
            "Requirement already satisfied: networkx in /usr/local/lib/python3.10/dist-packages (from torch) (3.4.2)\n",
            "Requirement already satisfied: jinja2 in /usr/local/lib/python3.10/dist-packages (from torch) (3.1.4)\n",
            "Requirement already satisfied: fsspec in /usr/local/lib/python3.10/dist-packages (from torch) (2024.10.0)\n",
            "Requirement already satisfied: sympy==1.13.1 in /usr/local/lib/python3.10/dist-packages (from torch) (1.13.1)\n",
            "Requirement already satisfied: mpmath<1.4,>=1.1.0 in /usr/local/lib/python3.10/dist-packages (from sympy==1.13.1->torch) (1.3.0)\n",
            "Requirement already satisfied: future in /usr/local/lib/python3.10/dist-packages (from ffmpeg-python) (1.0.0)\n",
            "Requirement already satisfied: MarkupSafe>=2.0 in /usr/local/lib/python3.10/dist-packages (from jinja2->torch) (3.0.2)\n",
            "Downloading ffmpeg_python-0.2.0-py3-none-any.whl (25 kB)\n",
            "Installing collected packages: ffmpeg-python\n",
            "Successfully installed ffmpeg-python-0.2.0\n",
            "Requirement already satisfied: opencv-python in /usr/local/lib/python3.10/dist-packages (4.10.0.84)\n",
            "Requirement already satisfied: opencv-python-headless in /usr/local/lib/python3.10/dist-packages (4.10.0.84)\n",
            "Requirement already satisfied: numpy>=1.21.2 in /usr/local/lib/python3.10/dist-packages (from opencv-python) (1.26.4)\n"
          ]
        }
      ],
      "source": [
        "# Install necessary libraries\n",
        "!pip install imageio imageio-ffmpeg numpy torch ffmpeg-python\n",
        "!pip install opencv-python opencv-python-headless"
      ]
    },
    {
      "cell_type": "code",
      "execution_count": null,
      "metadata": {
        "colab": {
          "base_uri": "https://localhost:8080/",
          "height": 276
        },
        "id": "w1LdMKTPn38p",
        "outputId": "24c0b07f-335d-4777-f4f9-e021307d700f"
      },
      "outputs": [
        {
          "output_type": "stream",
          "name": "stdout",
          "text": [
            "Cloning into 'first-order-model'...\n",
            "remote: Enumerating objects: 397, done.\u001b[K\n",
            "remote: Counting objects: 100% (52/52), done.\u001b[K\n",
            "remote: Compressing objects: 100% (16/16), done.\u001b[K\n",
            "remote: Total 397 (delta 38), reused 37 (delta 36), pack-reused 345 (from 3)\u001b[K\n",
            "Receiving objects: 100% (397/397), 72.19 MiB | 19.88 MiB/s, done.\n",
            "Resolving deltas: 100% (205/205), done.\n",
            "Updating files: 100% (48/48), done.\n"
          ]
        },
        {
          "output_type": "stream",
          "name": "stderr",
          "text": [
            "Downloading...\n",
            "From (original): https://drive.google.com/uc?id=1L8P-hpBhZi8Q_1vP2KlQ4N6dvlzpYBvZ\n",
            "From (redirected): https://drive.google.com/uc?id=1L8P-hpBhZi8Q_1vP2KlQ4N6dvlzpYBvZ&confirm=t&uuid=b197a1f7-edbc-4f8b-bbf4-a764ce3d248d\n",
            "To: /content/drive/MyDrive/first-order-model/vox-adv-cpk.pth.tar\n",
            "100%|██████████| 751M/751M [00:11<00:00, 64.6MB/s]\n"
          ]
        },
        {
          "output_type": "execute_result",
          "data": {
            "text/plain": [
              "'vox-adv-cpk.pth.tar'"
            ],
            "application/vnd.google.colaboratory.intrinsic+json": {
              "type": "string"
            }
          },
          "metadata": {},
          "execution_count": 8
        }
      ],
      "source": [
        "# Step 2: Download and prepare the first-order-model\n",
        "import os\n",
        "os.chdir('/content/drive/MyDrive')\n",
        "\n",
        "# Clone the first-order-model repository\n",
        "!git clone https://github.com/AliaksandrSiarohin/first-order-model.git\n",
        "os.chdir('first-order-model')\n",
        "\n",
        "# Download the pre-trained checkpoint\n",
        "import gdown\n",
        "\n",
        "# Define the URL and output directory for the checkpoint\n",
        "url = 'https://drive.google.com/uc?id=1L8P-hpBhZi8Q_1vP2KlQ4N6dvlzpYBvZ'\n",
        "checkpoint_path = 'vox-adv-cpk.pth.tar'\n",
        "\n",
        "# Download the checkpoint\n",
        "gdown.download(url, checkpoint_path, quiet=False)\n",
        "\n",
        "# https://drive.google.com/file/d/1BDMiyG1j4WWqupSpLzXG7Qmen38gGxGb/view?usp=sharing\n",
        "# https://drive.google.com/uc?id=1eeWryeq4pYjNTdnWTyUSPBEW8xI8g2bb&export=download\n",
        "\n",
        "# # Download the audio\n",
        "# audio_url = 'https://drive.google.com/uc?id=1BDMiyG1j4WWqupSpLzXG7Qmen38gGxGb&export=download'\n",
        "# audio_path = 's1.mp3'\n",
        "# gdown.download(audio_url, audio_path, quiet=False)"
      ]
    },
    {
      "cell_type": "code",
      "execution_count": null,
      "metadata": {
        "colab": {
          "base_uri": "https://localhost:8080/"
        },
        "id": "rCDYspoBEoGq",
        "outputId": "700500af-99dc-4559-bb2c-748b1382ad6e"
      },
      "outputs": [
        {
          "output_type": "stream",
          "name": "stderr",
          "text": [
            "WARNING:py.warnings:/usr/local/lib/python3.10/dist-packages/moviepy/video/io/sliders.py:61: SyntaxWarning: \"is\" with a literal. Did you mean \"==\"?\n",
            "  if event.key is 'enter':\n",
            "\n"
          ]
        },
        {
          "output_type": "stream",
          "name": "stdout",
          "text": [
            "43\n",
            "Moviepy - Building video sample_driving_video.mp4.\n",
            "Moviepy - Writing video sample_driving_video.mp4\n",
            "\n"
          ]
        },
        {
          "output_type": "stream",
          "name": "stderr",
          "text": []
        },
        {
          "output_type": "stream",
          "name": "stdout",
          "text": [
            "Moviepy - Done !\n",
            "Moviepy - video ready sample_driving_video.mp4\n"
          ]
        }
      ],
      "source": [
        "import imageio\n",
        "from moviepy.editor import ImageSequenceClip\n",
        "import numpy as np\n",
        "from skimage.transform import resize\n",
        "\n",
        "def process_frame(frame, crop_coords, target_shape):\n",
        "    x1, y1, x2, y2 = crop_coords\n",
        "    cropped_frame = frame[y1:y2, x1:x2]\n",
        "    resized_frame = resize(cropped_frame, target_shape, preserve_range=True)\n",
        "\n",
        "    return resized_frame.astype(np.uint8)\n",
        "\n",
        "def gif_to_video(gif_path, output_video_path, crop_coords, target_shape, fps=30):\n",
        "    # Load GIF\n",
        "    gif = imageio.mimread(gif_path)\n",
        "\n",
        "    # Process frames\n",
        "    processed_frames = [process_frame(frame, crop_coords, target_shape) for frame in gif]\n",
        "\n",
        "    processed_frames = processed_frames\n",
        "\n",
        "    print(len(processed_frames))\n",
        "\n",
        "    # Save frames as MP4\n",
        "    clip = ImageSequenceClip(processed_frames, fps=fps)\n",
        "    clip.write_videofile(output_video_path, codec='libx264')\n",
        "\n",
        "# Example usage\n",
        "gif_path = 'sup-mat/vox-teaser.gif'\n",
        "output_video_path = 'sample_driving_video.mp4'\n",
        "crop_coords = (60, 60, 450, 450)  # Crop coordinates (x1, y1, x2, y2)\n",
        "target_shape = (256, 256)  # Target shape (height, width)\n",
        "\n",
        "gif_to_video(gif_path, output_video_path, crop_coords, target_shape)"
      ]
    },
    {
      "cell_type": "markdown",
      "source": [
        "# Upload Your Image with clear Face"
      ],
      "metadata": {
        "id": "N0YnVxOnmwpg"
      }
    },
    {
      "cell_type": "code",
      "execution_count": null,
      "metadata": {
        "colab": {
          "base_uri": "https://localhost:8080/",
          "height": 191
        },
        "id": "E1NIo_f3pO3p",
        "outputId": "cd5057c8-d1a0-4a21-950b-7d78e4d1ab97"
      },
      "outputs": [
        {
          "output_type": "display_data",
          "data": {
            "text/plain": [
              "<IPython.core.display.HTML object>"
            ],
            "text/html": [
              "\n",
              "     <input type=\"file\" id=\"files-3920a373-5804-4bc4-8a01-b99bd097bb49\" name=\"files[]\" multiple disabled\n",
              "        style=\"border:none\" />\n",
              "     <output id=\"result-3920a373-5804-4bc4-8a01-b99bd097bb49\">\n",
              "      Upload widget is only available when the cell has been executed in the\n",
              "      current browser session. Please rerun this cell to enable.\n",
              "      </output>\n",
              "      <script>// Copyright 2017 Google LLC\n",
              "//\n",
              "// Licensed under the Apache License, Version 2.0 (the \"License\");\n",
              "// you may not use this file except in compliance with the License.\n",
              "// You may obtain a copy of the License at\n",
              "//\n",
              "//      http://www.apache.org/licenses/LICENSE-2.0\n",
              "//\n",
              "// Unless required by applicable law or agreed to in writing, software\n",
              "// distributed under the License is distributed on an \"AS IS\" BASIS,\n",
              "// WITHOUT WARRANTIES OR CONDITIONS OF ANY KIND, either express or implied.\n",
              "// See the License for the specific language governing permissions and\n",
              "// limitations under the License.\n",
              "\n",
              "/**\n",
              " * @fileoverview Helpers for google.colab Python module.\n",
              " */\n",
              "(function(scope) {\n",
              "function span(text, styleAttributes = {}) {\n",
              "  const element = document.createElement('span');\n",
              "  element.textContent = text;\n",
              "  for (const key of Object.keys(styleAttributes)) {\n",
              "    element.style[key] = styleAttributes[key];\n",
              "  }\n",
              "  return element;\n",
              "}\n",
              "\n",
              "// Max number of bytes which will be uploaded at a time.\n",
              "const MAX_PAYLOAD_SIZE = 100 * 1024;\n",
              "\n",
              "function _uploadFiles(inputId, outputId) {\n",
              "  const steps = uploadFilesStep(inputId, outputId);\n",
              "  const outputElement = document.getElementById(outputId);\n",
              "  // Cache steps on the outputElement to make it available for the next call\n",
              "  // to uploadFilesContinue from Python.\n",
              "  outputElement.steps = steps;\n",
              "\n",
              "  return _uploadFilesContinue(outputId);\n",
              "}\n",
              "\n",
              "// This is roughly an async generator (not supported in the browser yet),\n",
              "// where there are multiple asynchronous steps and the Python side is going\n",
              "// to poll for completion of each step.\n",
              "// This uses a Promise to block the python side on completion of each step,\n",
              "// then passes the result of the previous step as the input to the next step.\n",
              "function _uploadFilesContinue(outputId) {\n",
              "  const outputElement = document.getElementById(outputId);\n",
              "  const steps = outputElement.steps;\n",
              "\n",
              "  const next = steps.next(outputElement.lastPromiseValue);\n",
              "  return Promise.resolve(next.value.promise).then((value) => {\n",
              "    // Cache the last promise value to make it available to the next\n",
              "    // step of the generator.\n",
              "    outputElement.lastPromiseValue = value;\n",
              "    return next.value.response;\n",
              "  });\n",
              "}\n",
              "\n",
              "/**\n",
              " * Generator function which is called between each async step of the upload\n",
              " * process.\n",
              " * @param {string} inputId Element ID of the input file picker element.\n",
              " * @param {string} outputId Element ID of the output display.\n",
              " * @return {!Iterable<!Object>} Iterable of next steps.\n",
              " */\n",
              "function* uploadFilesStep(inputId, outputId) {\n",
              "  const inputElement = document.getElementById(inputId);\n",
              "  inputElement.disabled = false;\n",
              "\n",
              "  const outputElement = document.getElementById(outputId);\n",
              "  outputElement.innerHTML = '';\n",
              "\n",
              "  const pickedPromise = new Promise((resolve) => {\n",
              "    inputElement.addEventListener('change', (e) => {\n",
              "      resolve(e.target.files);\n",
              "    });\n",
              "  });\n",
              "\n",
              "  const cancel = document.createElement('button');\n",
              "  inputElement.parentElement.appendChild(cancel);\n",
              "  cancel.textContent = 'Cancel upload';\n",
              "  const cancelPromise = new Promise((resolve) => {\n",
              "    cancel.onclick = () => {\n",
              "      resolve(null);\n",
              "    };\n",
              "  });\n",
              "\n",
              "  // Wait for the user to pick the files.\n",
              "  const files = yield {\n",
              "    promise: Promise.race([pickedPromise, cancelPromise]),\n",
              "    response: {\n",
              "      action: 'starting',\n",
              "    }\n",
              "  };\n",
              "\n",
              "  cancel.remove();\n",
              "\n",
              "  // Disable the input element since further picks are not allowed.\n",
              "  inputElement.disabled = true;\n",
              "\n",
              "  if (!files) {\n",
              "    return {\n",
              "      response: {\n",
              "        action: 'complete',\n",
              "      }\n",
              "    };\n",
              "  }\n",
              "\n",
              "  for (const file of files) {\n",
              "    const li = document.createElement('li');\n",
              "    li.append(span(file.name, {fontWeight: 'bold'}));\n",
              "    li.append(span(\n",
              "        `(${file.type || 'n/a'}) - ${file.size} bytes, ` +\n",
              "        `last modified: ${\n",
              "            file.lastModifiedDate ? file.lastModifiedDate.toLocaleDateString() :\n",
              "                                    'n/a'} - `));\n",
              "    const percent = span('0% done');\n",
              "    li.appendChild(percent);\n",
              "\n",
              "    outputElement.appendChild(li);\n",
              "\n",
              "    const fileDataPromise = new Promise((resolve) => {\n",
              "      const reader = new FileReader();\n",
              "      reader.onload = (e) => {\n",
              "        resolve(e.target.result);\n",
              "      };\n",
              "      reader.readAsArrayBuffer(file);\n",
              "    });\n",
              "    // Wait for the data to be ready.\n",
              "    let fileData = yield {\n",
              "      promise: fileDataPromise,\n",
              "      response: {\n",
              "        action: 'continue',\n",
              "      }\n",
              "    };\n",
              "\n",
              "    // Use a chunked sending to avoid message size limits. See b/62115660.\n",
              "    let position = 0;\n",
              "    do {\n",
              "      const length = Math.min(fileData.byteLength - position, MAX_PAYLOAD_SIZE);\n",
              "      const chunk = new Uint8Array(fileData, position, length);\n",
              "      position += length;\n",
              "\n",
              "      const base64 = btoa(String.fromCharCode.apply(null, chunk));\n",
              "      yield {\n",
              "        response: {\n",
              "          action: 'append',\n",
              "          file: file.name,\n",
              "          data: base64,\n",
              "        },\n",
              "      };\n",
              "\n",
              "      let percentDone = fileData.byteLength === 0 ?\n",
              "          100 :\n",
              "          Math.round((position / fileData.byteLength) * 100);\n",
              "      percent.textContent = `${percentDone}% done`;\n",
              "\n",
              "    } while (position < fileData.byteLength);\n",
              "  }\n",
              "\n",
              "  // All done.\n",
              "  yield {\n",
              "    response: {\n",
              "      action: 'complete',\n",
              "    }\n",
              "  };\n",
              "}\n",
              "\n",
              "scope.google = scope.google || {};\n",
              "scope.google.colab = scope.google.colab || {};\n",
              "scope.google.colab._files = {\n",
              "  _uploadFiles,\n",
              "  _uploadFilesContinue,\n",
              "};\n",
              "})(self);\n",
              "</script> "
            ]
          },
          "metadata": {}
        },
        {
          "output_type": "error",
          "ename": "StopIteration",
          "evalue": "",
          "traceback": [
            "\u001b[0;31m---------------------------------------------------------------------------\u001b[0m",
            "\u001b[0;31mStopIteration\u001b[0m                             Traceback (most recent call last)",
            "\u001b[0;32m<ipython-input-10-673cdd7bcdaa>\u001b[0m in \u001b[0;36m<cell line: 8>\u001b[0;34m()\u001b[0m\n\u001b[1;32m      6\u001b[0m \u001b[0;34m\u001b[0m\u001b[0m\n\u001b[1;32m      7\u001b[0m \u001b[0;31m# Get the filename of the uploaded image\u001b[0m\u001b[0;34m\u001b[0m\u001b[0;34m\u001b[0m\u001b[0m\n\u001b[0;32m----> 8\u001b[0;31m \u001b[0mimage_path\u001b[0m \u001b[0;34m=\u001b[0m \u001b[0mnext\u001b[0m\u001b[0;34m(\u001b[0m\u001b[0miter\u001b[0m\u001b[0;34m(\u001b[0m\u001b[0muploaded\u001b[0m\u001b[0;34m)\u001b[0m\u001b[0;34m)\u001b[0m\u001b[0;34m\u001b[0m\u001b[0;34m\u001b[0m\u001b[0m\n\u001b[0m",
            "\u001b[0;31mStopIteration\u001b[0m: "
          ]
        }
      ],
      "source": [
        "\n",
        "# Step 3: Upload your image\n",
        "from google.colab import files\n",
        "\n",
        "# Allow user to upload an image\n",
        "uploaded = files.upload()\n",
        "\n",
        "# Get the filename of the uploaded image\n",
        "image_path = next(iter(uploaded))\n"
      ]
    },
    {
      "cell_type": "code",
      "execution_count": null,
      "metadata": {
        "id": "vdVGWmEMIaty"
      },
      "outputs": [],
      "source": [
        "import cv2\n",
        "import imageio\n",
        "from google.colab.patches import cv2_imshow\n",
        "from skimage.transform import resize\n",
        "from demo import load_checkpoints, make_animation\n",
        "from skimage import img_as_ubyte\n",
        "import numpy as np\n",
        "import torch, ffmpeg\n",
        "from moviepy.editor import VideoFileClip, AudioFileClip\n",
        "\n",
        "def detect_crop_faces_and_animate(image_path, driving_video_path='sample_driving_video.mp4', output_file='output.mp4', audio_path='s1.mp3'):\n",
        "    # Load the Haar Cascade classifier for face detection\n",
        "    face_cascade = cv2.CascadeClassifier(cv2.data.haarcascades + 'haarcascade_frontalface_default.xml')\n",
        "\n",
        "    # Read the image\n",
        "    image = cv2.imread(image_path)\n",
        "    image = cv2.resize(image, (256, 256))\n",
        "    gray = cv2.cvtColor(image, cv2.COLOR_BGR2GRAY)\n",
        "\n",
        "    # Detect faces in the image\n",
        "    faces = face_cascade.detectMultiScale(gray, scaleFactor=1.1, minNeighbors=3, minSize=(10, 10))\n",
        "\n",
        "    if len(faces) == 0:\n",
        "        print(\"No faces detected.\")\n",
        "        return\n",
        "\n",
        "    print(f\"Found {len(faces)} faces.\")\n",
        "\n",
        "    animated_images = []\n",
        "\n",
        "    for i, (x, y, w, h) in enumerate(faces):\n",
        "        print(f'Processing face {i+1} animation... Please wait...')\n",
        "\n",
        "        # Crop the detected face with a margin\n",
        "        margin = 20\n",
        "        if(len(faces) > 1):\n",
        "            margin = 10\n",
        "\n",
        "        x1, y1, x2, y2 = max(0, x - margin), max(0, y - margin), min(image.shape[1], x + w + margin), min(image.shape[0], y + h + margin)\n",
        "        face = image[y1:y2, x1:x2]\n",
        "\n",
        "        # Convert cropped face to RGB format\n",
        "        face_rgb = cv2.cvtColor(face, cv2.COLOR_BGR2RGB)\n",
        "\n",
        "        # Load pre-trained checkpoints\n",
        "        generator, kp_detector = load_checkpoints(config_path='config/vox-adv-256.yaml', checkpoint_path='vox-adv-cpk.pth.tar')\n",
        "\n",
        "        # Resize source image to match the model requirements\n",
        "        source_image = resize(face_rgb, (256, 256))[..., :3]\n",
        "\n",
        "        # Load driving video\n",
        "        driving_video = imageio.mimread(driving_video_path)\n",
        "\n",
        "        # Resize driving video frames to match the model requirements\n",
        "        driving_video = [resize(frame, (256, 256))[..., :3] for frame in driving_video]\n",
        "\n",
        "        # Perform the animation\n",
        "        predictions = make_animation(source_image, driving_video, generator, kp_detector, relative=True)\n",
        "\n",
        "        # Convert predictions to uint8 for blending with original image\n",
        "        predictions = [cv2.cvtColor(img_as_ubyte(pred),cv2.COLOR_BGR2RGB) for pred in predictions]\n",
        "\n",
        "        # Overlay animated face on the original image\n",
        "        for j,frame in enumerate(predictions):\n",
        "            # Resize frame to match the size of the cropped face\n",
        "            frame_resized = cv2.resize(frame, (x2 - x1, y2 - y1))\n",
        "\n",
        "            if(i==0):\n",
        "                animated_image = np.copy(image)\n",
        "                animated_image[y1:y2, x1:x2] = frame_resized\n",
        "                animated_images.append(animated_image)\n",
        "            else:\n",
        "                animated_images[j][y1:y2, x1:x2] = frame_resized\n",
        "\n",
        "    animated_images = animated_images * 20\n",
        "\n",
        "    # Save the animated frames as a video\n",
        "    fps = 5\n",
        "    height, width, _ = image.shape\n",
        "    temp_output = 'temp_output.mp4'\n",
        "    output_video = cv2.VideoWriter(temp_output, cv2.VideoWriter_fourcc(*'mp4v'), fps, (width, height))\n",
        "\n",
        "    for animated_frame in animated_images:\n",
        "        output_video.write(animated_frame)\n",
        "\n",
        "    output_video.release()\n",
        "\n",
        "    # Merge video and audio using ffmpeg-python\n",
        "    video = ffmpeg.input(temp_output)\n",
        "    audio = ffmpeg.input(audio_path)\n",
        "    ffmpeg.output(audio, video, output_file, vcodec='copy', acodec='copy').run()\n",
        "\n",
        "    print(f\"\\n\\nAnimation with custom audio saved as {output_file}\")\n"
      ]
    },
    {
      "cell_type": "code",
      "source": [
        "# Example usage\n",
        "import random\n",
        "rand_int = random.randint(0, 10000)\n",
        "\n",
        "# Birthday special\n",
        "# audio_url = 'https://drive.google.com/uc?id=1BDMiyG1j4WWqupSpLzXG7Qmen38gGxGb&export=download'\n",
        "# audio_path = 's1.mp3'\n",
        "# gdown.download(audio_url, audio_path, quiet=False)\n",
        "\n",
        "# Ncc speech - https://drive.google.com/file/d/1bEqIhlcpr0eGLn_dG0x8fU6ClbWJ1hAU/view?usp=sharing\n",
        "audio_url = 'https://drive.google.com/uc?id=1bEqIhlcpr0eGLn_dG0x8fU6ClbWJ1hAU&export=download'\n",
        "audio_path = 'NCC.mp3'\n",
        "gdown.download(audio_url, audio_path, quiet=False)\n",
        "\n",
        "# if u have upload, then comment below\n",
        "# image_url = https://drive.google.com/file/d/1EMFy0zkqH-qUsGx0fDHNK3YeD8cLykix/view?usp=sharing\n",
        "image_url = 'https://drive.google.com/uc?id=1EMFy0zkqH-qUsGx0fDHNK3YeD8cLykix&export=download'\n",
        "image_path = 'test.jpeg'\n",
        "gdown.download(image_url, image_path, quiet=False)"
      ],
      "metadata": {
        "colab": {
          "base_uri": "https://localhost:8080/",
          "height": 171
        },
        "id": "03wAazer3zPp",
        "outputId": "280250ff-b42a-41b5-845d-ef764a5d2033"
      },
      "execution_count": null,
      "outputs": [
        {
          "output_type": "stream",
          "name": "stderr",
          "text": [
            "Downloading...\n",
            "From: https://drive.google.com/uc?id=1bEqIhlcpr0eGLn_dG0x8fU6ClbWJ1hAU&export=download\n",
            "To: /content/drive/MyDrive/first-order-model/NCC.mp3\n",
            "100%|██████████| 737k/737k [00:00<00:00, 75.2MB/s]\n",
            "Downloading...\n",
            "From: https://drive.google.com/uc?id=1EMFy0zkqH-qUsGx0fDHNK3YeD8cLykix&export=download\n",
            "To: /content/drive/MyDrive/first-order-model/test.jpeg\n",
            "100%|██████████| 1.33M/1.33M [00:00<00:00, 110MB/s]\n"
          ]
        },
        {
          "output_type": "execute_result",
          "data": {
            "text/plain": [
              "'test.jpeg'"
            ],
            "application/vnd.google.colaboratory.intrinsic+json": {
              "type": "string"
            }
          },
          "metadata": {},
          "execution_count": 19
        }
      ]
    },
    {
      "cell_type": "code",
      "execution_count": null,
      "metadata": {
        "colab": {
          "base_uri": "https://localhost:8080/",
          "height": 256,
          "referenced_widgets": [
            "a56f96c65de54d6aa63081be83d99f6b",
            "27a7ecb727634c049bfa1fd1dacd9d8b",
            "9b87a8ea6a334e808f50cf54529b98e3",
            "1cc76a8791a04ae088b8a815959e4f89",
            "368491245cd24964a9c2d0b92396e32d",
            "0f3d2bb2a175417ba5e555db28db320b",
            "315181e3d98f4ccc8c925b3092a85ff2",
            "c52a9b2050054be9832379ac69cf4a04",
            "9fef6450deec4fd7b87e9f871472f855",
            "25eeccf718a64a088921169829a0c47a",
            "ea9dd8dd2b044667854cc55157816817"
          ]
        },
        "id": "SpDvtvefnFxw",
        "outputId": "52626ae4-aec6-4f55-8c38-a5b5284ba7c0"
      },
      "outputs": [
        {
          "output_type": "stream",
          "name": "stdout",
          "text": [
            "Found 1 faces.\n",
            "Processing face 1 animation... Please wait...\n"
          ]
        },
        {
          "output_type": "stream",
          "name": "stderr",
          "text": [
            "WARNING:py.warnings:/content/drive/MyDrive/first-order-model/demo.py:43: FutureWarning: You are using `torch.load` with `weights_only=False` (the current default value), which uses the default pickle module implicitly. It is possible to construct malicious pickle data which will execute arbitrary code during unpickling (See https://github.com/pytorch/pytorch/blob/main/SECURITY.md#untrusted-models for more details). In a future release, the default value for `weights_only` will be flipped to `True`. This limits the functions that could be executed during unpickling. Arbitrary objects will no longer be allowed to be loaded via this mode unless they are explicitly allowlisted by the user via `torch.serialization.add_safe_globals`. We recommend you start setting `weights_only=True` for any use case where you don't have full control of the loaded file. Please open an issue on GitHub for any issues related to this experimental feature.\n",
            "  checkpoint = torch.load(checkpoint_path)\n",
            "\n"
          ]
        },
        {
          "output_type": "display_data",
          "data": {
            "text/plain": [
              "  0%|          | 0/44 [00:00<?, ?it/s]"
            ],
            "application/vnd.jupyter.widget-view+json": {
              "version_major": 2,
              "version_minor": 0,
              "model_id": "a56f96c65de54d6aa63081be83d99f6b"
            }
          },
          "metadata": {}
        },
        {
          "output_type": "stream",
          "name": "stderr",
          "text": [
            "WARNING:py.warnings:/usr/local/lib/python3.10/dist-packages/torch/nn/functional.py:4902: UserWarning: Default grid_sample and affine_grid behavior has changed to align_corners=False since 1.3.0. Please specify align_corners=True if the old behavior is desired. See the documentation of grid_sample for details.\n",
            "  warnings.warn(\n",
            "\n"
          ]
        },
        {
          "output_type": "stream",
          "name": "stdout",
          "text": [
            "\n",
            "\n",
            "Animation with custom audio saved as animate_9000.mp4\n"
          ]
        }
      ],
      "source": [
        "\n",
        "\n",
        "# image_path = '/content/Purushotham.jpeg'\n",
        "output_file = f'animate_{rand_int}.mp4'\n",
        "driving_video_path = 'sample_driving_video.mp4'\n",
        "audio_path = 'NCC.mp3'\n",
        "\n",
        "detect_crop_faces_and_animate(image_path,  driving_video_path, output_file,audio_path)"
      ]
    },
    {
      "cell_type": "code",
      "execution_count": null,
      "metadata": {
        "id": "76H5o-ys0fui",
        "colab": {
          "base_uri": "https://localhost:8080/",
          "height": 17
        },
        "outputId": "1c7415b6-ec8c-4996-8e68-8e78e07afd98"
      },
      "outputs": [
        {
          "output_type": "display_data",
          "data": {
            "text/plain": [
              "<IPython.core.display.Javascript object>"
            ],
            "application/javascript": [
              "\n",
              "    async function download(id, filename, size) {\n",
              "      if (!google.colab.kernel.accessAllowed) {\n",
              "        return;\n",
              "      }\n",
              "      const div = document.createElement('div');\n",
              "      const label = document.createElement('label');\n",
              "      label.textContent = `Downloading \"${filename}\": `;\n",
              "      div.appendChild(label);\n",
              "      const progress = document.createElement('progress');\n",
              "      progress.max = size;\n",
              "      div.appendChild(progress);\n",
              "      document.body.appendChild(div);\n",
              "\n",
              "      const buffers = [];\n",
              "      let downloaded = 0;\n",
              "\n",
              "      const channel = await google.colab.kernel.comms.open(id);\n",
              "      // Send a message to notify the kernel that we're ready.\n",
              "      channel.send({})\n",
              "\n",
              "      for await (const message of channel.messages) {\n",
              "        // Send a message to notify the kernel that we're ready.\n",
              "        channel.send({})\n",
              "        if (message.buffers) {\n",
              "          for (const buffer of message.buffers) {\n",
              "            buffers.push(buffer);\n",
              "            downloaded += buffer.byteLength;\n",
              "            progress.value = downloaded;\n",
              "          }\n",
              "        }\n",
              "      }\n",
              "      const blob = new Blob(buffers, {type: 'application/binary'});\n",
              "      const a = document.createElement('a');\n",
              "      a.href = window.URL.createObjectURL(blob);\n",
              "      a.download = filename;\n",
              "      div.appendChild(a);\n",
              "      a.click();\n",
              "      div.remove();\n",
              "    }\n",
              "  "
            ]
          },
          "metadata": {}
        },
        {
          "output_type": "display_data",
          "data": {
            "text/plain": [
              "<IPython.core.display.Javascript object>"
            ],
            "application/javascript": [
              "download(\"download_556038b8-e0a6-49de-83a3-38f0e000897c\", \"animate_9000.mp4\", 3851445)"
            ]
          },
          "metadata": {}
        }
      ],
      "source": [
        "from google.colab import files\n",
        "\n",
        "# Download the file\n",
        "files.download(output_file)"
      ]
    },
    {
      "cell_type": "markdown",
      "source": [
        "Text To Speech\n",
        "https://ttsmaker.com/"
      ],
      "metadata": {
        "id": "p2iwIRGqBsIU"
      }
    },
    {
      "cell_type": "markdown",
      "source": [
        "Good morning, respected instructors, fellow cadets, and friends.\n",
        "\n",
        "As we step into the new year, it’s a perfect time to reflect on the lessons we’ve learned and to set new goals. The NCC has taught us the value of discipline, leadership, and resilience. It has shown us that growth comes not from avoiding challenges, but from facing them head-on and pushing beyond our limits.\n",
        "\n",
        "This year, let’s embrace change with open arms. Change is inevitable, but it is also the path to progress. Set new goals—whether it’s improving your fitness, learning new skills, or stepping up as a leader. Remember, progress is made one small step at a time.\n",
        "\n",
        "Discipline is the foundation of success. This year, let’s commit to building strong habits—waking up early, staying focused, and giving our best in everything we do. Success doesn’t come overnight; it comes through consistent effort.\n",
        "\n",
        "Let’s also remember the importance of leadership. True leadership is not about authority; it’s about inspiring others, serving with integrity, and leading by example. As cadets, we are not just training for ourselves; we’re preparing to serve our nation and our community.\n",
        "\n",
        "Lastly, let’s be resilient. Challenges will come, but we must rise every time we fall. The year ahead will bring obstacles, but with perseverance, we will overcome them and emerge stronger.\n",
        "\n",
        "So, let’s make this year count. Let’s work hard, stay disciplined, and lead with courage. Together, we will make 2024 our best year yet.\n",
        "\n",
        "Happy New Year, everyone! Let’s make it happen."
      ],
      "metadata": {
        "id": "h5d5eAUBBp4I"
      }
    },
    {
      "cell_type": "code",
      "source": [
        "# Text to Speech"
      ],
      "metadata": {
        "id": "2vSohWhouhu3"
      },
      "execution_count": null,
      "outputs": []
    },
    {
      "cell_type": "code",
      "source": [],
      "metadata": {
        "id": "YEA0NVWLBoQc"
      },
      "execution_count": null,
      "outputs": []
    }
  ],
  "metadata": {
    "accelerator": "GPU",
    "colab": {
      "gpuType": "T4",
      "provenance": []
    },
    "kernelspec": {
      "display_name": "Python 3",
      "name": "python3"
    },
    "language_info": {
      "name": "python"
    },
    "widgets": {
      "application/vnd.jupyter.widget-state+json": {
        "a56f96c65de54d6aa63081be83d99f6b": {
          "model_module": "@jupyter-widgets/controls",
          "model_name": "HBoxModel",
          "model_module_version": "1.5.0",
          "state": {
            "_dom_classes": [],
            "_model_module": "@jupyter-widgets/controls",
            "_model_module_version": "1.5.0",
            "_model_name": "HBoxModel",
            "_view_count": null,
            "_view_module": "@jupyter-widgets/controls",
            "_view_module_version": "1.5.0",
            "_view_name": "HBoxView",
            "box_style": "",
            "children": [
              "IPY_MODEL_27a7ecb727634c049bfa1fd1dacd9d8b",
              "IPY_MODEL_9b87a8ea6a334e808f50cf54529b98e3",
              "IPY_MODEL_1cc76a8791a04ae088b8a815959e4f89"
            ],
            "layout": "IPY_MODEL_368491245cd24964a9c2d0b92396e32d"
          }
        },
        "27a7ecb727634c049bfa1fd1dacd9d8b": {
          "model_module": "@jupyter-widgets/controls",
          "model_name": "HTMLModel",
          "model_module_version": "1.5.0",
          "state": {
            "_dom_classes": [],
            "_model_module": "@jupyter-widgets/controls",
            "_model_module_version": "1.5.0",
            "_model_name": "HTMLModel",
            "_view_count": null,
            "_view_module": "@jupyter-widgets/controls",
            "_view_module_version": "1.5.0",
            "_view_name": "HTMLView",
            "description": "",
            "description_tooltip": null,
            "layout": "IPY_MODEL_0f3d2bb2a175417ba5e555db28db320b",
            "placeholder": "​",
            "style": "IPY_MODEL_315181e3d98f4ccc8c925b3092a85ff2",
            "value": "100%"
          }
        },
        "9b87a8ea6a334e808f50cf54529b98e3": {
          "model_module": "@jupyter-widgets/controls",
          "model_name": "FloatProgressModel",
          "model_module_version": "1.5.0",
          "state": {
            "_dom_classes": [],
            "_model_module": "@jupyter-widgets/controls",
            "_model_module_version": "1.5.0",
            "_model_name": "FloatProgressModel",
            "_view_count": null,
            "_view_module": "@jupyter-widgets/controls",
            "_view_module_version": "1.5.0",
            "_view_name": "ProgressView",
            "bar_style": "success",
            "description": "",
            "description_tooltip": null,
            "layout": "IPY_MODEL_c52a9b2050054be9832379ac69cf4a04",
            "max": 44,
            "min": 0,
            "orientation": "horizontal",
            "style": "IPY_MODEL_9fef6450deec4fd7b87e9f871472f855",
            "value": 44
          }
        },
        "1cc76a8791a04ae088b8a815959e4f89": {
          "model_module": "@jupyter-widgets/controls",
          "model_name": "HTMLModel",
          "model_module_version": "1.5.0",
          "state": {
            "_dom_classes": [],
            "_model_module": "@jupyter-widgets/controls",
            "_model_module_version": "1.5.0",
            "_model_name": "HTMLModel",
            "_view_count": null,
            "_view_module": "@jupyter-widgets/controls",
            "_view_module_version": "1.5.0",
            "_view_name": "HTMLView",
            "description": "",
            "description_tooltip": null,
            "layout": "IPY_MODEL_25eeccf718a64a088921169829a0c47a",
            "placeholder": "​",
            "style": "IPY_MODEL_ea9dd8dd2b044667854cc55157816817",
            "value": " 44/44 [00:01&lt;00:00, 25.72it/s]"
          }
        },
        "368491245cd24964a9c2d0b92396e32d": {
          "model_module": "@jupyter-widgets/base",
          "model_name": "LayoutModel",
          "model_module_version": "1.2.0",
          "state": {
            "_model_module": "@jupyter-widgets/base",
            "_model_module_version": "1.2.0",
            "_model_name": "LayoutModel",
            "_view_count": null,
            "_view_module": "@jupyter-widgets/base",
            "_view_module_version": "1.2.0",
            "_view_name": "LayoutView",
            "align_content": null,
            "align_items": null,
            "align_self": null,
            "border": null,
            "bottom": null,
            "display": null,
            "flex": null,
            "flex_flow": null,
            "grid_area": null,
            "grid_auto_columns": null,
            "grid_auto_flow": null,
            "grid_auto_rows": null,
            "grid_column": null,
            "grid_gap": null,
            "grid_row": null,
            "grid_template_areas": null,
            "grid_template_columns": null,
            "grid_template_rows": null,
            "height": null,
            "justify_content": null,
            "justify_items": null,
            "left": null,
            "margin": null,
            "max_height": null,
            "max_width": null,
            "min_height": null,
            "min_width": null,
            "object_fit": null,
            "object_position": null,
            "order": null,
            "overflow": null,
            "overflow_x": null,
            "overflow_y": null,
            "padding": null,
            "right": null,
            "top": null,
            "visibility": null,
            "width": null
          }
        },
        "0f3d2bb2a175417ba5e555db28db320b": {
          "model_module": "@jupyter-widgets/base",
          "model_name": "LayoutModel",
          "model_module_version": "1.2.0",
          "state": {
            "_model_module": "@jupyter-widgets/base",
            "_model_module_version": "1.2.0",
            "_model_name": "LayoutModel",
            "_view_count": null,
            "_view_module": "@jupyter-widgets/base",
            "_view_module_version": "1.2.0",
            "_view_name": "LayoutView",
            "align_content": null,
            "align_items": null,
            "align_self": null,
            "border": null,
            "bottom": null,
            "display": null,
            "flex": null,
            "flex_flow": null,
            "grid_area": null,
            "grid_auto_columns": null,
            "grid_auto_flow": null,
            "grid_auto_rows": null,
            "grid_column": null,
            "grid_gap": null,
            "grid_row": null,
            "grid_template_areas": null,
            "grid_template_columns": null,
            "grid_template_rows": null,
            "height": null,
            "justify_content": null,
            "justify_items": null,
            "left": null,
            "margin": null,
            "max_height": null,
            "max_width": null,
            "min_height": null,
            "min_width": null,
            "object_fit": null,
            "object_position": null,
            "order": null,
            "overflow": null,
            "overflow_x": null,
            "overflow_y": null,
            "padding": null,
            "right": null,
            "top": null,
            "visibility": null,
            "width": null
          }
        },
        "315181e3d98f4ccc8c925b3092a85ff2": {
          "model_module": "@jupyter-widgets/controls",
          "model_name": "DescriptionStyleModel",
          "model_module_version": "1.5.0",
          "state": {
            "_model_module": "@jupyter-widgets/controls",
            "_model_module_version": "1.5.0",
            "_model_name": "DescriptionStyleModel",
            "_view_count": null,
            "_view_module": "@jupyter-widgets/base",
            "_view_module_version": "1.2.0",
            "_view_name": "StyleView",
            "description_width": ""
          }
        },
        "c52a9b2050054be9832379ac69cf4a04": {
          "model_module": "@jupyter-widgets/base",
          "model_name": "LayoutModel",
          "model_module_version": "1.2.0",
          "state": {
            "_model_module": "@jupyter-widgets/base",
            "_model_module_version": "1.2.0",
            "_model_name": "LayoutModel",
            "_view_count": null,
            "_view_module": "@jupyter-widgets/base",
            "_view_module_version": "1.2.0",
            "_view_name": "LayoutView",
            "align_content": null,
            "align_items": null,
            "align_self": null,
            "border": null,
            "bottom": null,
            "display": null,
            "flex": null,
            "flex_flow": null,
            "grid_area": null,
            "grid_auto_columns": null,
            "grid_auto_flow": null,
            "grid_auto_rows": null,
            "grid_column": null,
            "grid_gap": null,
            "grid_row": null,
            "grid_template_areas": null,
            "grid_template_columns": null,
            "grid_template_rows": null,
            "height": null,
            "justify_content": null,
            "justify_items": null,
            "left": null,
            "margin": null,
            "max_height": null,
            "max_width": null,
            "min_height": null,
            "min_width": null,
            "object_fit": null,
            "object_position": null,
            "order": null,
            "overflow": null,
            "overflow_x": null,
            "overflow_y": null,
            "padding": null,
            "right": null,
            "top": null,
            "visibility": null,
            "width": null
          }
        },
        "9fef6450deec4fd7b87e9f871472f855": {
          "model_module": "@jupyter-widgets/controls",
          "model_name": "ProgressStyleModel",
          "model_module_version": "1.5.0",
          "state": {
            "_model_module": "@jupyter-widgets/controls",
            "_model_module_version": "1.5.0",
            "_model_name": "ProgressStyleModel",
            "_view_count": null,
            "_view_module": "@jupyter-widgets/base",
            "_view_module_version": "1.2.0",
            "_view_name": "StyleView",
            "bar_color": null,
            "description_width": ""
          }
        },
        "25eeccf718a64a088921169829a0c47a": {
          "model_module": "@jupyter-widgets/base",
          "model_name": "LayoutModel",
          "model_module_version": "1.2.0",
          "state": {
            "_model_module": "@jupyter-widgets/base",
            "_model_module_version": "1.2.0",
            "_model_name": "LayoutModel",
            "_view_count": null,
            "_view_module": "@jupyter-widgets/base",
            "_view_module_version": "1.2.0",
            "_view_name": "LayoutView",
            "align_content": null,
            "align_items": null,
            "align_self": null,
            "border": null,
            "bottom": null,
            "display": null,
            "flex": null,
            "flex_flow": null,
            "grid_area": null,
            "grid_auto_columns": null,
            "grid_auto_flow": null,
            "grid_auto_rows": null,
            "grid_column": null,
            "grid_gap": null,
            "grid_row": null,
            "grid_template_areas": null,
            "grid_template_columns": null,
            "grid_template_rows": null,
            "height": null,
            "justify_content": null,
            "justify_items": null,
            "left": null,
            "margin": null,
            "max_height": null,
            "max_width": null,
            "min_height": null,
            "min_width": null,
            "object_fit": null,
            "object_position": null,
            "order": null,
            "overflow": null,
            "overflow_x": null,
            "overflow_y": null,
            "padding": null,
            "right": null,
            "top": null,
            "visibility": null,
            "width": null
          }
        },
        "ea9dd8dd2b044667854cc55157816817": {
          "model_module": "@jupyter-widgets/controls",
          "model_name": "DescriptionStyleModel",
          "model_module_version": "1.5.0",
          "state": {
            "_model_module": "@jupyter-widgets/controls",
            "_model_module_version": "1.5.0",
            "_model_name": "DescriptionStyleModel",
            "_view_count": null,
            "_view_module": "@jupyter-widgets/base",
            "_view_module_version": "1.2.0",
            "_view_name": "StyleView",
            "description_width": ""
          }
        }
      }
    }
  },
  "nbformat": 4,
  "nbformat_minor": 0
}